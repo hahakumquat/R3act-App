{
 "cells": [
  {
   "cell_type": "code",
   "execution_count": 18,
   "metadata": {
    "collapsed": true
   },
   "outputs": [],
   "source": [
    "import pandas\n",
    "import matplotlib.pyplot as plt\n",
    "import numpy as np\n",
    "from sklearn.ensemble import RandomForestClassifier\n",
    "import os\n",
    "%matplotlib inline"
   ]
  },
  {
   "cell_type": "code",
   "execution_count": 19,
   "metadata": {
    "collapsed": true
   },
   "outputs": [],
   "source": [
    "threshold_epsilon = 0.1"
   ]
  },
  {
   "cell_type": "code",
   "execution_count": 20,
   "metadata": {},
   "outputs": [],
   "source": [
    "def parse_data(filename):\n",
    "    keys = ['Age', 'Height', 'Weight', 'Gender']\n",
    "    with open(filename) as f:\n",
    "        ## collect data from file\n",
    "        result = {}\n",
    "        for i in range(8):\n",
    "            next(f)\n",
    "        for i in keys:\n",
    "            tmp = f.readline()\n",
    "            result[i] = tmp[(tmp.index(' ') + 1):-1]\n",
    "        for i in range(4):\n",
    "            next(f)\n",
    "        data = []\n",
    "        for r in f:\n",
    "            d = r[:-1].split(', ')\n",
    "            data.append([float(i) for i in d])\n",
    "        \n",
    "        n = len(data)\n",
    "        result['duration'] = n\n",
    "        \n",
    "        x_data = [d[1] for d in data]\n",
    "        x_min = min(x_data)\n",
    "        x_max = max(x_data)\n",
    "        x_first = x_data[0]\n",
    "        x_last = x_data[-1]\n",
    "        result['X_median'] = np.median(x_data)\n",
    "\n",
    "        y_data = [d[2] for d in data]\n",
    "        y_min = min(y_data)\n",
    "        y_max = max(y_data)\n",
    "        y_first = y_data[0]\n",
    "        y_last = y_data[-1]\n",
    "        result['Y_median'] = np.median(y_data)\n",
    "        \n",
    "        z_data = [d[3] for d in data]\n",
    "        z_first = z_data[0]\n",
    "        z_min = min(z_data)\n",
    "        z_max = max(z_data)\n",
    "        z_last = z_data[-1]\n",
    "        result['Z_median'] = np.median(z_data)   \n",
    "    \n",
    "        ## standardizes Y data by median and X time to 0 second start\n",
    "        data = list(map(lambda d : \n",
    "                        [d[0] - data[0][0], \n",
    "                         d[1] - result['X_median'], \n",
    "                         d[2] - result['Y_median'], \n",
    "                         d[3] - result['Z_median']], \n",
    "                        data))\n",
    "        \n",
    "        ## find change amount to trim\n",
    "        threshold = min([abs(x_max - x_min), abs(y_max - y_min), abs(z_max - z_min)]) * threshold_epsilon\n",
    "        \n",
    "        ## trims left side \n",
    "        l_trim = 0\n",
    "        is_significant = False\n",
    "        while not is_significant and l_trim < n - 1:\n",
    "            if (abs(x_data[l_trim] - x_first) > threshold\n",
    "            or abs(y_data[l_trim] - y_first) > threshold\n",
    "            or abs(z_data[l_trim] - z_first) > threshold):\n",
    "                is_significant = True\n",
    "            else:\n",
    "                l_trim += 1\n",
    "                \n",
    "        ## trims right side\n",
    "        r_trim = n - 1\n",
    "        is_significant = False\n",
    "        while not is_significant and r_trim > 0:\n",
    "            if (abs(x_data[r_trim] - x_last) > threshold\n",
    "            or abs(y_data[r_trim] - y_last) > threshold\n",
    "            or abs(z_data[r_trim] - z_last) > threshold):\n",
    "                is_significant = True\n",
    "            else:\n",
    "                r_trim -= 1\n",
    "                \n",
    "        # result['data'] = data[l_trim:r_trim]\n",
    "        result['data'] = data\n",
    "    return result, (l_trim, r_trim)\n",
    "\n",
    "def plot_data(data, bounds=None):\n",
    "    Xs = [data['data'][i][0] for i in range(len(data['data']))]\n",
    "    Ys = [data['data'][i][1] for i in range(len(data['data']))]\n",
    "    plt.plot(Xs, Ys, c=\"r\")\n",
    "    Ys = [data['data'][i][2] for i in range(len(data['data']))]\n",
    "    plt.plot(Xs, Ys, c=\"g\")\n",
    "    Ys = [data['data'][i][3] for i in range(len(data['data']))]\n",
    "    plt.plot(Xs, Ys, c=\"b\")\n",
    "    if bounds is not None:\n",
    "        y_bounds = list(plt.gca().get_ylim())\n",
    "        plt.plot([data['data'][bounds[0]][0], data['data'][bounds[0]][0]], y_bounds, c='black')\n",
    "        plt.plot([data['data'][bounds[1]][0], data['data'][bounds[1]][0]], y_bounds, c='black')\n",
    "    plt.show()"
   ]
  },
  {
   "cell_type": "code",
   "execution_count": null,
   "metadata": {
    "scrolled": false
   },
   "outputs": [],
   "source": [
    "root_dir = './MobiFall/'\n",
    "categories = {}\n",
    "durations = []\n",
    "starts = []\n",
    "ends = []\n",
    "for file in [i for i in os.listdir(root_dir)]:\n",
    "    prefix = file[0:3]\n",
    "    if prefix not in categories:\n",
    "        obj = {}\n",
    "        obj['durations'] = []\n",
    "        obj['starts'] = []\n",
    "        obj['ends'] = []\n",
    "        categories[prefix] = obj\n",
    "    data, domain = parse_data(root_dir + file)\n",
    "    categories[prefix]['durations'].append(data['duration'])\n",
    "    categories[prefix]['starts'].append(domain[0] / data['duration'])\n",
    "    categories[prefix]['ends'].append(domain[1] / data['duration'])\n",
    "\n",
    "for prefix in categories:\n",
    "    plt.hist(categories[prefix]['starts'], bins=40)\n",
    "    plt.title(prefix+' start')\n",
    "    plt.show()\n",
    "    plt.hist(categories[prefix]['ends'], bins=40)\n",
    "    plt.title(prefix+' end')\n",
    "    plt.show()\n",
    "    plt.hist(categories[prefix]['durations'], bins=30)\n",
    "    plt.title(prefix+' duration')\n",
    "    plt.show()"
   ]
  },
  {
   "cell_type": "code",
   "execution_count": null,
   "metadata": {
    "collapsed": true
   },
   "outputs": [],
   "source": []
  },
  {
   "cell_type": "code",
   "execution_count": null,
   "metadata": {
    "collapsed": true
   },
   "outputs": [],
   "source": []
  }
 ],
 "metadata": {
  "kernelspec": {
   "display_name": "Python 3",
   "language": "python",
   "name": "python3"
  },
  "language_info": {
   "codemirror_mode": {
    "name": "ipython",
    "version": 3
   },
   "file_extension": ".py",
   "mimetype": "text/x-python",
   "name": "python",
   "nbconvert_exporter": "python",
   "pygments_lexer": "ipython3",
   "version": "3.6.1"
  }
 },
 "nbformat": 4,
 "nbformat_minor": 2
}
