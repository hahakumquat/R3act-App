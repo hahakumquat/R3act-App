{
 "cells": [
  {
   "cell_type": "code",
   "execution_count": 22,
   "metadata": {
    "collapsed": true
   },
   "outputs": [],
   "source": [
    "import pandas\n",
    "import matplotlib.pyplot as plt\n",
    "import numpy as np\n",
    "from sklearn.ensemble import RandomForestClassifier\n",
    "import os\n",
    "%matplotlib inline"
   ]
  },
  {
   "cell_type": "code",
   "execution_count": 23,
   "metadata": {
    "collapsed": true
   },
   "outputs": [],
   "source": [
    "threshold_epsilon = 0.1"
   ]
  },
  {
   "cell_type": "code",
   "execution_count": 68,
   "metadata": {
    "collapsed": true
   },
   "outputs": [],
   "source": [
    "def parse_data(filename):\n",
    "    keys = ['Age', 'Height', 'Weight', 'Gender']\n",
    "    with open(filename) as f:\n",
    "        ## collect data from file\n",
    "        result = {}\n",
    "        for i in range(8):\n",
    "            next(f)\n",
    "        tmp = f.readline()\n",
    "        for i in keys:\n",
    "            result[i] = tmp[(tmp.index(' ') + 1):-1]\n",
    "        for i in range(4):\n",
    "            next(f)\n",
    "        data = []\n",
    "        for r in f:\n",
    "            d = r[:-1].split(', ')\n",
    "            data.append([float(i) for i in d])\n",
    "        \n",
    "        n = len(data)\n",
    "        result['duration'] = n\n",
    "    \n",
    "        result['X_median'] = np.median([d[1] for d in data])\n",
    "        result['Y_median'] = np.median([d[2] for d in data])\n",
    "        result['Z_median'] = np.median([d[3] for d in data])     \n",
    "        \n",
    "        ## standardizes Y data by median and X time to 0 second start\n",
    "        data = list(map(lambda d : \n",
    "                        [d[0] - data[0][0], \n",
    "                         d[1] - result['X_median'], \n",
    "                         d[2] - result['Y_median'], \n",
    "                         d[3] - result['Z_median']], \n",
    "                        data))\n",
    "        \n",
    "        # gets useful statistics about the data\n",
    "        x_data = [d[1] for d in data]\n",
    "        x_min = min(x_data)\n",
    "        x_max = max(x_data)  \n",
    "\n",
    "        y_data = [d[2] for d in data]\n",
    "        y_min = min(y_data)\n",
    "        y_max = max(y_data)\n",
    "        \n",
    "        z_data = [d[3] for d in data]\n",
    "        z_min = min(z_data)\n",
    "        z_max = max(z_data)\n",
    "        \n",
    "        ## find change amount to trim\n",
    "        threshold = min([abs(x_max - x_min), abs(y_max - y_min), abs(z_max - z_min)]) * threshold_epsilon\n",
    "        \n",
    "        (l_trim, r_trim) = trim(data, threshold)\n",
    "        \n",
    "        result['data'] = data\n",
    "        \n",
    "    return result, (l_trim, r_trim)"
   ]
  },
  {
   "cell_type": "code",
   "execution_count": 69,
   "metadata": {
    "collapsed": true
   },
   "outputs": [],
   "source": [
    "def trim(data, threshold):\n",
    "    n = len(data)\n",
    "    x_first = data[0][1]\n",
    "    y_first = data[0][2]\n",
    "    z_first = data[0][3]\n",
    "    x_last = data[-1][1]\n",
    "    y_last = data[-1][2]\n",
    "    z_last = data[-1][3]\n",
    "    \n",
    "    l_trim = 0\n",
    "    is_significant = False\n",
    "    while not is_significant and l_trim < n - 1:\n",
    "        if (abs(data[l_trim][1] - x_first) > threshold\n",
    "        or abs(data[l_trim][2] - y_first) > threshold\n",
    "        or abs(data[l_trim][3] - z_first) > threshold):\n",
    "            is_significant = True\n",
    "        else:\n",
    "            l_trim += 1\n",
    "            \n",
    "    r_trim = n - 1\n",
    "    is_significant = False\n",
    "    while not is_significant and r_trim > 0:\n",
    "        if (abs(data[r_trim][1] - x_last) > threshold\n",
    "        or abs(data[r_trim][2] - y_last) > threshold\n",
    "        or abs(data[r_trim][3] - z_last) > threshold):\n",
    "            is_significant = True\n",
    "        else:\n",
    "            r_trim -= 1\n",
    "            \n",
    "    return (l_trim, r_trim)"
   ]
  },
  {
   "cell_type": "code",
   "execution_count": 70,
   "metadata": {
    "collapsed": true
   },
   "outputs": [],
   "source": [
    "def plot_data(data, bounds=None):\n",
    "    n = len(data['data'])\n",
    "    Xs = [data['data'][i][0] for i in range(n)]\n",
    "    Ys = [data['data'][i][1] for i in range(n)]\n",
    "    plt.plot(Xs, Ys, c=\"r\")\n",
    "    Ys = [data['data'][i][2] for i in range(n)]\n",
    "    plt.plot(Xs, Ys, c=\"g\")\n",
    "    Ys = [data['data'][i][3] for i in range(n)]\n",
    "    plt.plot(Xs, Ys, c=\"b\")\n",
    "    if bounds is not None:\n",
    "        y_bounds = list(plt.gca().get_ylim())\n",
    "        plt.plot([data['data'][bounds[0]][0], data['data'][bounds[0]][0]], y_bounds, c='black')\n",
    "        plt.plot([data['data'][bounds[1]][0], data['data'][bounds[1]][0]], y_bounds, c='black')\n",
    "    plt.show()"
   ]
  },
  {
   "cell_type": "code",
   "execution_count": 72,
   "metadata": {
    "collapsed": true
   },
   "outputs": [],
   "source": [
    "def get_files(root_dir):\n",
    "    result = [root_dir + file for file in os.listdir(root_dir) if not os.path.isdir(root_dir+file)]\n",
    "    for file in [file for file in os.listdir(root_dir) if os.path.isdir(root_dir+file)]:\n",
    "        result = result + get_files(root_dir + file + '/')\n",
    "    return result"
   ]
  },
  {
   "cell_type": "code",
   "execution_count": 74,
   "metadata": {
    "collapsed": false,
    "scrolled": true
   },
   "outputs": [
    {
     "ename": "ValueError",
     "evalue": "Mixing iteration and read methods would lose data",
     "output_type": "error",
     "traceback": [
      "\u001b[0;31m---------------------------------------------------------------------------\u001b[0m",
      "\u001b[0;31mValueError\u001b[0m                                Traceback (most recent call last)",
      "\u001b[0;32m<ipython-input-74-37e673cc6085>\u001b[0m in \u001b[0;36m<module>\u001b[0;34m()\u001b[0m\n\u001b[1;32m     12\u001b[0m         \u001b[0mobj\u001b[0m\u001b[0;34m[\u001b[0m\u001b[0;34m'ends'\u001b[0m\u001b[0;34m]\u001b[0m \u001b[0;34m=\u001b[0m \u001b[0;34m[\u001b[0m\u001b[0;34m]\u001b[0m\u001b[0;34m\u001b[0m\u001b[0m\n\u001b[1;32m     13\u001b[0m         \u001b[0mcategories\u001b[0m\u001b[0;34m[\u001b[0m\u001b[0mprefix\u001b[0m\u001b[0;34m]\u001b[0m \u001b[0;34m=\u001b[0m \u001b[0mobj\u001b[0m\u001b[0;34m\u001b[0m\u001b[0m\n\u001b[0;32m---> 14\u001b[0;31m     \u001b[0mdata\u001b[0m\u001b[0;34m,\u001b[0m \u001b[0mdomain\u001b[0m \u001b[0;34m=\u001b[0m \u001b[0mparse_data\u001b[0m\u001b[0;34m(\u001b[0m\u001b[0mfile\u001b[0m\u001b[0;34m)\u001b[0m\u001b[0;34m\u001b[0m\u001b[0m\n\u001b[0m\u001b[1;32m     15\u001b[0m     \u001b[0mcategories\u001b[0m\u001b[0;34m[\u001b[0m\u001b[0mprefix\u001b[0m\u001b[0;34m]\u001b[0m\u001b[0;34m[\u001b[0m\u001b[0;34m'durations'\u001b[0m\u001b[0;34m]\u001b[0m\u001b[0;34m.\u001b[0m\u001b[0mappend\u001b[0m\u001b[0;34m(\u001b[0m\u001b[0mdata\u001b[0m\u001b[0;34m[\u001b[0m\u001b[0;34m'duration'\u001b[0m\u001b[0;34m]\u001b[0m\u001b[0;34m)\u001b[0m\u001b[0;34m\u001b[0m\u001b[0m\n\u001b[1;32m     16\u001b[0m     \u001b[0mcategories\u001b[0m\u001b[0;34m[\u001b[0m\u001b[0mprefix\u001b[0m\u001b[0;34m]\u001b[0m\u001b[0;34m[\u001b[0m\u001b[0;34m'starts'\u001b[0m\u001b[0;34m]\u001b[0m\u001b[0;34m.\u001b[0m\u001b[0mappend\u001b[0m\u001b[0;34m(\u001b[0m\u001b[0mdomain\u001b[0m\u001b[0;34m[\u001b[0m\u001b[0;36m0\u001b[0m\u001b[0;34m]\u001b[0m \u001b[0;34m/\u001b[0m \u001b[0mdata\u001b[0m\u001b[0;34m[\u001b[0m\u001b[0;34m'duration'\u001b[0m\u001b[0;34m]\u001b[0m\u001b[0;34m)\u001b[0m\u001b[0;34m\u001b[0m\u001b[0m\n",
      "\u001b[0;32m<ipython-input-68-3b8d0dde972c>\u001b[0m in \u001b[0;36mparse_data\u001b[0;34m(filename)\u001b[0m\n\u001b[1;32m      6\u001b[0m         \u001b[0;32mfor\u001b[0m \u001b[0mi\u001b[0m \u001b[0;32min\u001b[0m \u001b[0mrange\u001b[0m\u001b[0;34m(\u001b[0m\u001b[0;36m8\u001b[0m\u001b[0;34m)\u001b[0m\u001b[0;34m:\u001b[0m\u001b[0;34m\u001b[0m\u001b[0m\n\u001b[1;32m      7\u001b[0m             \u001b[0mnext\u001b[0m\u001b[0;34m(\u001b[0m\u001b[0mf\u001b[0m\u001b[0;34m)\u001b[0m\u001b[0;34m\u001b[0m\u001b[0m\n\u001b[0;32m----> 8\u001b[0;31m         \u001b[0mtmp\u001b[0m \u001b[0;34m=\u001b[0m \u001b[0mf\u001b[0m\u001b[0;34m.\u001b[0m\u001b[0mreadline\u001b[0m\u001b[0;34m(\u001b[0m\u001b[0;34m)\u001b[0m\u001b[0;34m\u001b[0m\u001b[0m\n\u001b[0m\u001b[1;32m      9\u001b[0m         \u001b[0;32mfor\u001b[0m \u001b[0mi\u001b[0m \u001b[0;32min\u001b[0m \u001b[0mkeys\u001b[0m\u001b[0;34m:\u001b[0m\u001b[0;34m\u001b[0m\u001b[0m\n\u001b[1;32m     10\u001b[0m             \u001b[0mresult\u001b[0m\u001b[0;34m[\u001b[0m\u001b[0mi\u001b[0m\u001b[0;34m]\u001b[0m \u001b[0;34m=\u001b[0m \u001b[0mtmp\u001b[0m\u001b[0;34m[\u001b[0m\u001b[0;34m(\u001b[0m\u001b[0mtmp\u001b[0m\u001b[0;34m.\u001b[0m\u001b[0mindex\u001b[0m\u001b[0;34m(\u001b[0m\u001b[0;34m' '\u001b[0m\u001b[0;34m)\u001b[0m \u001b[0;34m+\u001b[0m \u001b[0;36m1\u001b[0m\u001b[0;34m)\u001b[0m\u001b[0;34m:\u001b[0m\u001b[0;34m-\u001b[0m\u001b[0;36m1\u001b[0m\u001b[0;34m]\u001b[0m\u001b[0;34m\u001b[0m\u001b[0m\n",
      "\u001b[0;31mValueError\u001b[0m: Mixing iteration and read methods would lose data"
     ]
    }
   ],
   "source": [
    "root_dir = './MobiFall/'\n",
    "categories = {}\n",
    "durations = []\n",
    "starts = []\n",
    "ends = []\n",
    "for file in [file for file in get_files(root_dir) if file[-4:] == '.txt' and file[-6] == '_']:\n",
    "    prefix = os.path.basename(file)[0:3]\n",
    "    if prefix not in categories:\n",
    "        obj = {}\n",
    "        obj['durations'] = []\n",
    "        obj['starts'] = []\n",
    "        obj['ends'] = []\n",
    "        categories[prefix] = obj\n",
    "    data, domain = parse_data(file)\n",
    "    categories[prefix]['durations'].append(data['duration'])\n",
    "    categories[prefix]['starts'].append(domain[0] / data['duration'])\n",
    "    categories[prefix]['ends'].append(domain[1] / data['duration'])\n",
    "    plot_data(data, domain)\n",
    "\n",
    "for prefix in categories:\n",
    "    plt.hist(categories[prefix]['starts'], bins=40)\n",
    "    plt.title(prefix+' start')\n",
    "    plt.show()\n",
    "    plt.hist(categories[prefix]['ends'], bins=40)\n",
    "    plt.title(prefix+' end')\n",
    "    plt.show()\n",
    "    plt.hist(categories[prefix]['durations'], bins=30)\n",
    "    plt.title(prefix+' duration')\n",
    "    plt.show()"
   ]
  },
  {
   "cell_type": "code",
   "execution_count": null,
   "metadata": {
    "collapsed": true
   },
   "outputs": [],
   "source": [
    "trims = [(),"
   ]
  },
  {
   "cell_type": "code",
   "execution_count": null,
   "metadata": {
    "collapsed": true
   },
   "outputs": [],
   "source": []
  }
 ],
 "metadata": {
  "kernelspec": {
   "display_name": "Python [Root]",
   "language": "python",
   "name": "Python [Root]"
  },
  "language_info": {
   "codemirror_mode": {
    "name": "ipython",
    "version": 2
   },
   "file_extension": ".py",
   "mimetype": "text/x-python",
   "name": "python",
   "nbconvert_exporter": "python",
   "pygments_lexer": "ipython2",
   "version": "2.7.12"
  }
 },
 "nbformat": 4,
 "nbformat_minor": 2
}
