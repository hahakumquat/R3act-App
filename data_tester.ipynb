{
 "cells": [
  {
   "cell_type": "code",
   "execution_count": 39,
   "metadata": {
    "collapsed": true
   },
   "outputs": [],
   "source": [
    "import pandas\n",
    "import matplotlib.pyplot as plt\n",
    "import numpy as np\n",
    "from sklearn.ensemble import RandomForestClassifier\n",
    "import os\n",
    "%matplotlib inline"
   ]
  },
  {
   "cell_type": "code",
   "execution_count": 40,
   "metadata": {
    "collapsed": true
   },
   "outputs": [],
   "source": [
    "threshold_epsilon = 0.01\n",
    "duration = 6\n",
    "quantile_trim = [0.02, 0.98]\n",
    "buckets = 10"
   ]
  },
  {
   "cell_type": "code",
   "execution_count": 41,
   "metadata": {
    "collapsed": true
   },
   "outputs": [],
   "source": [
    "def parse_data(filename):\n",
    "    keys = ['Age', 'Height', 'Weight', 'Gender']\n",
    "    with open(filename) as f:\n",
    "        ## collect data from file\n",
    "        result = {}\n",
    "        for i in range(8):\n",
    "            next(f)\n",
    "        for i in keys:\n",
    "            tmp = f.readline()\n",
    "            result[i] = tmp[(tmp.index(' ') + 1):-1]\n",
    "        for i in range(4):\n",
    "            next(f)\n",
    "        data = []\n",
    "        for r in f:\n",
    "            d = r[:-1].split(', ')\n",
    "            data.append([float(i) for i in d])\n",
    "\n",
    "        result['X_median'] = np.median([d[1] for d in data])\n",
    "        result['Y_median'] = np.median([d[2] for d in data])\n",
    "        result['Z_median'] = np.median([d[3] for d in data])     \n",
    "        result['duration'] = data[-1][0] - data[0][0]\n",
    "        ## standardizes Y data by median and X time to 0 second start\n",
    "        data = list(map(lambda d : \n",
    "                        [(d[0] - data[0][0]) / 1000000000, \n",
    "                         d[1] - result['X_median'], \n",
    "                         d[2] - result['Y_median'], \n",
    "                         d[3] - result['Z_median']], \n",
    "                        data))\n",
    "\n",
    "        x_data = [d[1] for d in data]\n",
    "        x_min = min(x_data)\n",
    "        x_max = max(x_data)  \n",
    "\n",
    "        y_data = [d[2] for d in data]\n",
    "        y_min = min(y_data)\n",
    "        y_max = max(y_data)\n",
    "        \n",
    "        z_data = [d[3] for d in data]\n",
    "        z_min = min(z_data)\n",
    "        z_max = max(z_data)\n",
    "        \n",
    "        del x_data\n",
    "        del y_data\n",
    "        del z_data\n",
    "        \n",
    "        ## cuts off start and end\n",
    "        data = trim_quantiles(data, quantile_trim)\n",
    "        \n",
    "        ## find threshold amount to trim\n",
    "        threshold = min([abs(x_max - x_min), abs(y_max - y_min), abs(z_max - z_min)]) * threshold_epsilon\n",
    "        (l_trim, r_trim) = trim_threshold(data, threshold)\n",
    "        result['data'] = data[l_trim:r_trim]\n",
    "        \n",
    "        ## trim remaining data if still greater than desired duration, otherwise expand out to fill data\n",
    "        \n",
    "    return result, (l_trim, r_trim)"
   ]
  },
  {
   "cell_type": "code",
   "execution_count": 42,
   "metadata": {
    "collapsed": true
   },
   "outputs": [],
   "source": [
    "def trim_quantiles(data, quantiles):\n",
    "    return data[int(len(data) * quantiles[0]):int(len(data) * quantiles[1])]"
   ]
  },
  {
   "cell_type": "code",
   "execution_count": 43,
   "metadata": {
    "collapsed": true
   },
   "outputs": [],
   "source": [
    "def trim_threshold(data, threshold):\n",
    "    l_trim = 0\n",
    "    is_significant = False\n",
    "    while not is_significant and l_trim < len(data) - 2:\n",
    "        dt = data[l_trim][0] - data[l_trim + 1][0]\n",
    "        dx = data[l_trim][1] - data[l_trim + 1][1]\n",
    "        dy = data[l_trim][2] - data[l_trim + 1][2]\n",
    "        dz = data[l_trim][3] - data[l_trim + 1][3]\n",
    "        if (abs(dx/dt) > threshold\n",
    "        or abs(dy/dt) > threshold\n",
    "        or abs(dz/dt) > threshold):\n",
    "            is_significant = True\n",
    "        else:\n",
    "            l_trim += 1\n",
    "            \n",
    "    r_trim = len(data) - 1\n",
    "    is_significant = False\n",
    "    while not is_significant and r_trim > 1:\n",
    "        dt = data[r_trim][0] - data[r_trim - 1][0]\n",
    "        dx = data[r_trim][1] - data[r_trim - 1][1]\n",
    "        dy = data[r_trim][2] - data[r_trim - 1][2]\n",
    "        dz = data[r_trim][3] - data[r_trim - 1][3]\n",
    "        if (abs(dx/dt) > threshold\n",
    "        or abs(dy/dt) > threshold\n",
    "        or abs(dz/dt) > threshold):\n",
    "            is_significant = True\n",
    "        else:\n",
    "            r_trim -= 1\n",
    "            \n",
    "    return (l_trim, r_trim)"
   ]
  },
  {
   "cell_type": "code",
   "execution_count": 52,
   "metadata": {
    "collapsed": true
   },
   "outputs": [],
   "source": [
    "def plot_data(data, bounds=None):\n",
    "    n = len(data['data'])\n",
    "    Xs = [data['data'][i][0] for i in range(n)]\n",
    "    Ys = [data['data'][i][1] for i in range(n)]\n",
    "    plt.plot(Xs, Ys, c=\"r\")\n",
    "    Ys = [data['data'][i][2] for i in range(n)]\n",
    "    plt.plot(Xs, Ys, c=\"g\")\n",
    "    Ys = [data['data'][i][3] for i in range(n)]\n",
    "    plt.plot(Xs, Ys, c=\"b\")\n",
    "    if bounds is not None:\n",
    "        y_bounds = list(plt.gca().get_ylim())\n",
    "        plt.plot([data['data'][bounds[0]][0], data['data'][bounds[0]][0]], y_bounds, c='black')\n",
    "        plt.plot([data['data'][bounds[1]][0], data['data'][bounds[1]][0]], y_bounds, c='grey')\n",
    "    plt.show()"
   ]
  },
  {
   "cell_type": "code",
   "execution_count": 53,
   "metadata": {
    "collapsed": true
   },
   "outputs": [],
   "source": [
    "## edward wrote this, michael wrote everything else\n",
    "def get_files(root_dir):\n",
    "    result = [root_dir + file for file in os.listdir(root_dir) if not os.path.isdir(root_dir+file)]\n",
    "    for file in [file for file in os.listdir(root_dir) if os.path.isdir(root_dir+file)]:\n",
    "        result = result + get_files(root_dir + file + '/')\n",
    "    return result"
   ]
  },
  {
   "cell_type": "code",
   "execution_count": 54,
   "metadata": {
    "collapsed": true,
    "scrolled": true
   },
   "outputs": [],
   "source": [
    "def load(root='./MobiFall/', plot=False):\n",
    "    root_dir = root\n",
    "    categories = {}\n",
    "    for file in [file for file in get_files(root_dir) if file[-4:] == '.txt' and file[-6] == '_']:\n",
    "        prefix = os.path.basename(file)[0:3]\n",
    "        if prefix not in categories:\n",
    "            obj = []\n",
    "            categories[prefix] = obj\n",
    "        result, domain = parse_data(file)\n",
    "        categories[prefix].append(result)\n",
    "        if plot:\n",
    "            plot_data(result, domain)\n",
    "    return categories"
   ]
  },
  {
   "cell_type": "code",
   "execution_count": 55,
   "metadata": {},
   "outputs": [
    {
     "name": "stdout",
     "output_type": "stream",
     "text": [
      "1919 (0, 1919)\n"
     ]
    },
    {
     "ename": "IndexError",
     "evalue": "list index out of range",
     "output_type": "error",
     "traceback": [
      "\u001b[0;31m---------------------------------------------------------------------------\u001b[0m",
      "\u001b[0;31mIndexError\u001b[0m                                Traceback (most recent call last)",
      "\u001b[0;32m<ipython-input-55-0eaba986abca>\u001b[0m in \u001b[0;36m<module>\u001b[0;34m()\u001b[0m\n\u001b[1;32m      3\u001b[0m \u001b[0;31m# categories['STN']['starts']: list of starting times\u001b[0m\u001b[0;34m\u001b[0m\u001b[0;34m\u001b[0m\u001b[0m\n\u001b[1;32m      4\u001b[0m \u001b[0;31m# categories['STN']['ends']: list of end times\u001b[0m\u001b[0;34m\u001b[0m\u001b[0;34m\u001b[0m\u001b[0m\n\u001b[0;32m----> 5\u001b[0;31m \u001b[0mcategories\u001b[0m \u001b[0;34m=\u001b[0m \u001b[0mload\u001b[0m\u001b[0;34m(\u001b[0m\u001b[0;34m'MobiFall_Small/'\u001b[0m\u001b[0;34m,\u001b[0m \u001b[0;32mTrue\u001b[0m\u001b[0;34m)\u001b[0m\u001b[0;34m\u001b[0m\u001b[0m\n\u001b[0m",
      "\u001b[0;32m<ipython-input-54-0ffd59aba3d6>\u001b[0m in \u001b[0;36mload\u001b[0;34m(root, plot)\u001b[0m\n\u001b[1;32m     10\u001b[0m         \u001b[0mcategories\u001b[0m\u001b[0;34m[\u001b[0m\u001b[0mprefix\u001b[0m\u001b[0;34m]\u001b[0m\u001b[0;34m.\u001b[0m\u001b[0mappend\u001b[0m\u001b[0;34m(\u001b[0m\u001b[0mresult\u001b[0m\u001b[0;34m)\u001b[0m\u001b[0;34m\u001b[0m\u001b[0m\n\u001b[1;32m     11\u001b[0m         \u001b[0;32mif\u001b[0m \u001b[0mplot\u001b[0m\u001b[0;34m:\u001b[0m\u001b[0;34m\u001b[0m\u001b[0m\n\u001b[0;32m---> 12\u001b[0;31m             \u001b[0mplot_data\u001b[0m\u001b[0;34m(\u001b[0m\u001b[0mresult\u001b[0m\u001b[0;34m,\u001b[0m \u001b[0mdomain\u001b[0m\u001b[0;34m)\u001b[0m\u001b[0;34m\u001b[0m\u001b[0m\n\u001b[0m\u001b[1;32m     13\u001b[0m     \u001b[0;32mreturn\u001b[0m \u001b[0mcategories\u001b[0m\u001b[0;34m\u001b[0m\u001b[0m\n",
      "\u001b[0;32m<ipython-input-52-af29f6a35589>\u001b[0m in \u001b[0;36mplot_data\u001b[0;34m(data, bounds)\u001b[0m\n\u001b[1;32m     12\u001b[0m         \u001b[0mprint\u001b[0m\u001b[0;34m(\u001b[0m\u001b[0mlen\u001b[0m\u001b[0;34m(\u001b[0m\u001b[0mdata\u001b[0m\u001b[0;34m[\u001b[0m\u001b[0;34m'data'\u001b[0m\u001b[0;34m]\u001b[0m\u001b[0;34m)\u001b[0m\u001b[0;34m,\u001b[0m \u001b[0mbounds\u001b[0m\u001b[0;34m)\u001b[0m\u001b[0;34m\u001b[0m\u001b[0m\n\u001b[1;32m     13\u001b[0m         \u001b[0mplt\u001b[0m\u001b[0;34m.\u001b[0m\u001b[0mplot\u001b[0m\u001b[0;34m(\u001b[0m\u001b[0;34m[\u001b[0m\u001b[0mdata\u001b[0m\u001b[0;34m[\u001b[0m\u001b[0;34m'data'\u001b[0m\u001b[0;34m]\u001b[0m\u001b[0;34m[\u001b[0m\u001b[0mbounds\u001b[0m\u001b[0;34m[\u001b[0m\u001b[0;36m0\u001b[0m\u001b[0;34m]\u001b[0m\u001b[0;34m]\u001b[0m\u001b[0;34m[\u001b[0m\u001b[0;36m0\u001b[0m\u001b[0;34m]\u001b[0m\u001b[0;34m,\u001b[0m \u001b[0mdata\u001b[0m\u001b[0;34m[\u001b[0m\u001b[0;34m'data'\u001b[0m\u001b[0;34m]\u001b[0m\u001b[0;34m[\u001b[0m\u001b[0mbounds\u001b[0m\u001b[0;34m[\u001b[0m\u001b[0;36m0\u001b[0m\u001b[0;34m]\u001b[0m\u001b[0;34m]\u001b[0m\u001b[0;34m[\u001b[0m\u001b[0;36m0\u001b[0m\u001b[0;34m]\u001b[0m\u001b[0;34m]\u001b[0m\u001b[0;34m,\u001b[0m \u001b[0my_bounds\u001b[0m\u001b[0;34m,\u001b[0m \u001b[0mc\u001b[0m\u001b[0;34m=\u001b[0m\u001b[0;34m'black'\u001b[0m\u001b[0;34m)\u001b[0m\u001b[0;34m\u001b[0m\u001b[0m\n\u001b[0;32m---> 14\u001b[0;31m         \u001b[0mplt\u001b[0m\u001b[0;34m.\u001b[0m\u001b[0mplot\u001b[0m\u001b[0;34m(\u001b[0m\u001b[0;34m[\u001b[0m\u001b[0mdata\u001b[0m\u001b[0;34m[\u001b[0m\u001b[0;34m'data'\u001b[0m\u001b[0;34m]\u001b[0m\u001b[0;34m[\u001b[0m\u001b[0mbounds\u001b[0m\u001b[0;34m[\u001b[0m\u001b[0;36m1\u001b[0m\u001b[0;34m]\u001b[0m\u001b[0;34m]\u001b[0m\u001b[0;34m[\u001b[0m\u001b[0;36m0\u001b[0m\u001b[0;34m]\u001b[0m\u001b[0;34m,\u001b[0m \u001b[0mdata\u001b[0m\u001b[0;34m[\u001b[0m\u001b[0;34m'data'\u001b[0m\u001b[0;34m]\u001b[0m\u001b[0;34m[\u001b[0m\u001b[0mbounds\u001b[0m\u001b[0;34m[\u001b[0m\u001b[0;36m1\u001b[0m\u001b[0;34m]\u001b[0m\u001b[0;34m]\u001b[0m\u001b[0;34m[\u001b[0m\u001b[0;36m0\u001b[0m\u001b[0;34m]\u001b[0m\u001b[0;34m]\u001b[0m\u001b[0;34m,\u001b[0m \u001b[0my_bounds\u001b[0m\u001b[0;34m,\u001b[0m \u001b[0mc\u001b[0m\u001b[0;34m=\u001b[0m\u001b[0;34m'grey'\u001b[0m\u001b[0;34m)\u001b[0m\u001b[0;34m\u001b[0m\u001b[0m\n\u001b[0m\u001b[1;32m     15\u001b[0m     \u001b[0mplt\u001b[0m\u001b[0;34m.\u001b[0m\u001b[0mshow\u001b[0m\u001b[0;34m(\u001b[0m\u001b[0;34m)\u001b[0m\u001b[0;34m\u001b[0m\u001b[0m\n",
      "\u001b[0;31mIndexError\u001b[0m: list index out of range"
     ]
    },
    {
     "data": {
      "image/png": "[encoded data removed]",
      "text/plain": [
       "<matplotlib.figure.Figure at 0x7f5548728a58>"
      ]
     },
     "metadata": {},
     "output_type": "display_data"
    }
   ],
   "source": [
    "# categorizes by movement type. each movement contains a list of every datapoint for:\n",
    "# categories['STN']['durations']: list of the lengths of each trimmed datapoint in STN\n",
    "# categories['STN']['starts']: list of starting times\n",
    "# categories['STN']['ends']: list of end times\n",
    "categories = load('MobiFall_Small/', True)"
   ]
  },
  {
   "cell_type": "code",
   "execution_count": null,
   "metadata": {
    "collapsed": true
   },
   "outputs": [],
   "source": [
    "lst = []\n",
    "for cat in categories.keys():\n",
    "    for c in categories[cat]:\n",
    "        lst.append(c['duration'])\n",
    "        \n",
    "## most points lie in ~6 billion as the duration\n",
    "plt.hist(lst)"
   ]
  },
  {
   "cell_type": "code",
   "execution_count": 148,
   "metadata": {},
   "outputs": [
    {
     "data": {
      "text/plain": [
       "6000000000"
      ]
     },
     "execution_count": 148,
     "metadata": {},
     "output_type": "execute_result"
    }
   ],
   "source": []
  },
  {
   "cell_type": "code",
   "execution_count": null,
   "metadata": {
    "collapsed": true
   },
   "outputs": [],
   "source": []
  },
  {
   "cell_type": "code",
   "execution_count": null,
   "metadata": {
    "collapsed": true
   },
   "outputs": [],
   "source": []
  }
 ],
 "metadata": {
  "kernelspec": {
   "display_name": "Python 3",
   "language": "python",
   "name": "python3"
  },
  "language_info": {
   "codemirror_mode": {
    "name": "ipython",
    "version": 3
   },
   "file_extension": ".py",
   "mimetype": "text/x-python",
   "name": "python",
   "nbconvert_exporter": "python",
   "pygments_lexer": "ipython3",
   "version": "3.6.2"
  }
 },
 "nbformat": 4,
 "nbformat_minor": 2
}
