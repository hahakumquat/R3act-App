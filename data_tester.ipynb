{
 "cells": [
  {
   "cell_type": "code",
   "execution_count": 1,
   "metadata": {
    "collapsed": true
   },
   "outputs": [],
   "source": [
    "import pandas\n",
    "import matplotlib.pyplot as plt\n",
    "import numpy as np\n",
    "from sklearn.ensemble import RandomForestClassifier\n",
    "import os\n",
    "%matplotlib inline"
   ]
  },
  {
   "cell_type": "code",
   "execution_count": 2,
   "metadata": {
    "collapsed": true
   },
   "outputs": [],
   "source": [
    "threshold_epsilon = 0.05"
   ]
  },
  {
   "cell_type": "code",
   "execution_count": 3,
   "metadata": {
    "collapsed": true
   },
   "outputs": [],
   "source": [
    "def parse_data(filename):\n",
    "    keys = ['Age', 'Height', 'Weight', 'Gender']\n",
    "    with open(filename) as f:\n",
    "        ## collect data from file\n",
    "        result = {}\n",
    "        for i in range(8):\n",
    "            next(f)\n",
    "        for i in keys:\n",
    "            tmp = f.readline()\n",
    "            result[i] = tmp[(tmp.index(' ') + 1):-1]\n",
    "        for i in range(4):\n",
    "            next(f)\n",
    "        data = []\n",
    "        for r in f:\n",
    "            d = r[:-1].split(', ')\n",
    "            data.append([float(i) for i in d])\n",
    "\n",
    "        result['X_median'] = np.median([d[1] for d in data])\n",
    "        result['Y_median'] = np.median([d[2] for d in data])\n",
    "        result['Z_median'] = np.median([d[3] for d in data])     \n",
    "        result['duration'] = data[-1][0] - data[0][0]\n",
    "        ## standardizes Y data by median and X time to 0 second start\n",
    "        data = list(map(lambda d : \n",
    "                        [d[0] - data[0][0], \n",
    "                         d[1] - result['X_median'], \n",
    "                         d[2] - result['Y_median'], \n",
    "                         d[3] - result['Z_median']], \n",
    "                        data))\n",
    "\n",
    "        x_data = [d[1] for d in data]\n",
    "        x_min = min(x_data)\n",
    "        x_max = max(x_data)  \n",
    "\n",
    "        y_data = [d[2] for d in data]\n",
    "        y_min = min(y_data)\n",
    "        y_max = max(y_data)\n",
    "        \n",
    "        z_data = [d[3] for d in data]\n",
    "        z_min = min(z_data)\n",
    "        z_max = max(z_data)\n",
    "        \n",
    "        del x_data\n",
    "        del y_data\n",
    "        del z_data\n",
    "        \n",
    "        ## find change amount to trim\n",
    "        threshold = min([abs(x_max - x_min), abs(y_max - y_min), abs(z_max - z_min)]) * threshold_epsilon\n",
    "        \n",
    "        (l_trim, r_trim) = trim(data, threshold)\n",
    "        \n",
    "        result['data'] = data[l_trim:r_trim]\n",
    "        \n",
    "    return result, (l_trim, r_trim)"
   ]
  },
  {
   "cell_type": "code",
   "execution_count": 4,
   "metadata": {
    "collapsed": true
   },
   "outputs": [],
   "source": [
    "def trim(data, threshold):\n",
    "    n = len(data)\n",
    "    x_first = data[0][1]\n",
    "    y_first = data[0][2]\n",
    "    z_first = data[0][3]\n",
    "    x_last = data[-1][1]\n",
    "    y_last = data[-1][2]\n",
    "    z_last = data[-1][3]\n",
    "    \n",
    "    l_trim = 0\n",
    "    is_significant = False\n",
    "    while not is_significant and l_trim < n - 1:\n",
    "        if (abs(data[l_trim][1] - x_first) > threshold\n",
    "        or abs(data[l_trim][2] - y_first) > threshold\n",
    "        or abs(data[l_trim][3] - z_first) > threshold):\n",
    "            is_significant = True\n",
    "        else:\n",
    "            l_trim += 1\n",
    "            \n",
    "    r_trim = n - 1\n",
    "    is_significant = False\n",
    "    while not is_significant and r_trim > 0:\n",
    "        if (abs(data[r_trim][1] - x_last) > threshold\n",
    "        or abs(data[r_trim][2] - y_last) > threshold\n",
    "        or abs(data[r_trim][3] - z_last) > threshold):\n",
    "            is_significant = True\n",
    "        else:\n",
    "            r_trim -= 1\n",
    "            \n",
    "    return (l_trim, r_trim)"
   ]
  },
  {
   "cell_type": "code",
   "execution_count": 5,
   "metadata": {
    "collapsed": true
   },
   "outputs": [],
   "source": [
    "def plot_data(data, bounds=None):\n",
    "    n = len(data['data'])\n",
    "    Xs = [data['data'][i][0] for i in range(n)]\n",
    "    Ys = [data['data'][i][1] for i in range(n)]\n",
    "    plt.plot(Xs, Ys, c=\"r\")\n",
    "    Ys = [data['data'][i][2] for i in range(n)]\n",
    "    plt.plot(Xs, Ys, c=\"g\")\n",
    "    Ys = [data['data'][i][3] for i in range(n)]\n",
    "    plt.plot(Xs, Ys, c=\"b\")\n",
    "    if bounds is not None:\n",
    "        y_bounds = list(plt.gca().get_ylim())\n",
    "        plt.plot([data['data'][bounds[0]][0], data['data'][bounds[0]][0]], y_bounds, c='black')\n",
    "        plt.plot([data['data'][bounds[1]][0], data['data'][bounds[1]][0]], y_bounds, c='black')\n",
    "    plt.show()"
   ]
  },
  {
   "cell_type": "code",
   "execution_count": 6,
   "metadata": {
    "collapsed": true
   },
   "outputs": [],
   "source": [
    "## edward wrote this, michael wrote everything else\n",
    "def get_files(root_dir):\n",
    "    result = [root_dir + file for file in os.listdir(root_dir) if not os.path.isdir(root_dir+file)]\n",
    "    for file in [file for file in os.listdir(root_dir) if os.path.isdir(root_dir+file)]:\n",
    "        result = result + get_files(root_dir + file + '/')\n",
    "    return result"
   ]
  },
  {
   "cell_type": "code",
   "execution_count": 7,
   "metadata": {
    "collapsed": true,
    "scrolled": true
   },
   "outputs": [],
   "source": [
    "def load(root='./MobiFall/'):\n",
    "    root_dir = root\n",
    "    categories = {}\n",
    "    for file in [file for file in get_files(root_dir) if file[-4:] == '.txt' and file[-6] == '_']:\n",
    "        prefix = os.path.basename(file)[0:3]\n",
    "        if prefix not in categories:\n",
    "            obj = []\n",
    "            categories[prefix] = obj\n",
    "        result, domain = parse_data(file)\n",
    "        categories[prefix].append(result)\n",
    "    return categories"
   ]
  },
  {
   "cell_type": "code",
   "execution_count": 8,
   "metadata": {
    "collapsed": true
   },
   "outputs": [],
   "source": [
    "# categorizes by movement type. each movement contains a list of every datapoint for:\n",
    "# categories['STN']['durations']: list of the lengths of each trimmed datapoint in STN\n",
    "# categories['STN']['starts']: list of starting times\n",
    "# categories['STN']['ends']: list of end times\n",
    "categories = load('MobiFall_Small/')"
   ]
  },
  {
   "cell_type": "code",
   "execution_count": 11,
   "metadata": {},
   "outputs": [
    {
     "data": {
      "image/png": "[encoded data removed]",
      "text/plain": [
       "<matplotlib.figure.Figure at 0x7f74f8226dd8>"
      ]
     },
     "metadata": {},
     "output_type": "display_data"
    }
   ],
   "source": [
    "for c in categories:\n",
    "    lst = []\n",
    "    for i in categories[c]:\n",
    "        lst.append(i['duration'])\n",
    "        plt.hist(lst, bins=2)"
   ]
  },
  {
   "cell_type": "code",
   "execution_count": 29,
   "metadata": {},
   "outputs": [
    {
     "ename": "TypeError",
     "evalue": "list indices must be integers or slices, not str",
     "output_type": "error",
     "traceback": [
      "\u001b[0;31m---------------------------------------------------------------------------\u001b[0m",
      "\u001b[0;31mTypeError\u001b[0m                                 Traceback (most recent call last)",
      "\u001b[0;32m<ipython-input-29-405ecdc6a60b>\u001b[0m in \u001b[0;36m<module>\u001b[0;34m()\u001b[0m\n\u001b[1;32m      2\u001b[0m \u001b[0;32mfor\u001b[0m \u001b[0mc\u001b[0m \u001b[0;32min\u001b[0m \u001b[0mcategories\u001b[0m\u001b[0;34m:\u001b[0m\u001b[0;34m\u001b[0m\u001b[0m\n\u001b[1;32m      3\u001b[0m     \u001b[0;32mif\u001b[0m \u001b[0mc\u001b[0m \u001b[0;34m==\u001b[0m \u001b[0;34m\"FOL\"\u001b[0m \u001b[0;32mor\u001b[0m \u001b[0mc\u001b[0m \u001b[0;34m==\u001b[0m \u001b[0;34m\"BSC\"\u001b[0m \u001b[0;32mor\u001b[0m \u001b[0mc\u001b[0m \u001b[0;34m==\u001b[0m \u001b[0;34m\"FKL\"\u001b[0m \u001b[0;32mor\u001b[0m \u001b[0mc\u001b[0m \u001b[0;34m==\u001b[0m \u001b[0;34m\"SDL\"\u001b[0m\u001b[0;34m:\u001b[0m\u001b[0;34m\u001b[0m\u001b[0m\n\u001b[0;32m----> 4\u001b[0;31m         \u001b[0mplt\u001b[0m\u001b[0;34m.\u001b[0m\u001b[0mhist\u001b[0m\u001b[0;34m(\u001b[0m\u001b[0mcategories\u001b[0m\u001b[0;34m[\u001b[0m\u001b[0mc\u001b[0m\u001b[0;34m]\u001b[0m\u001b[0;34m[\u001b[0m\u001b[0;34m'durations'\u001b[0m\u001b[0;34m]\u001b[0m\u001b[0;34m)\u001b[0m\u001b[0;34m\u001b[0m\u001b[0m\n\u001b[0m\u001b[1;32m      5\u001b[0m         \u001b[0mkeys\u001b[0m\u001b[0;34m.\u001b[0m\u001b[0mappend\u001b[0m\u001b[0;34m(\u001b[0m\u001b[0mc\u001b[0m\u001b[0;34m)\u001b[0m\u001b[0;34m\u001b[0m\u001b[0m\n\u001b[1;32m      6\u001b[0m \u001b[0mplt\u001b[0m\u001b[0;34m.\u001b[0m\u001b[0mlegend\u001b[0m\u001b[0;34m(\u001b[0m\u001b[0mkeys\u001b[0m\u001b[0;34m)\u001b[0m\u001b[0;34m\u001b[0m\u001b[0m\n",
      "\u001b[0;31mTypeError\u001b[0m: list indices must be integers or slices, not str"
     ]
    }
   ],
   "source": [
    "keys = []\n",
    "for c in categories:\n",
    "    if c == \"FOL\" or c == \"BSC\" or c == \"FKL\" or c == \"SDL\":\n",
    "        plt.hist(categories[c]['durations'])\n",
    "        keys.append(c)\n",
    "plt.legend(keys)"
   ]
  },
  {
   "cell_type": "code",
   "execution_count": null,
   "metadata": {
    "collapsed": true
   },
   "outputs": [],
   "source": []
  },
  {
   "cell_type": "code",
   "execution_count": null,
   "metadata": {
    "collapsed": true
   },
   "outputs": [],
   "source": []
  }
 ],
 "metadata": {
  "kernelspec": {
   "display_name": "Python 3",
   "language": "python",
   "name": "python3"
  },
  "language_info": {
   "codemirror_mode": {
    "name": "ipython",
    "version": 3
   },
   "file_extension": ".py",
   "mimetype": "text/x-python",
   "name": "python",
   "nbconvert_exporter": "python",
   "pygments_lexer": "ipython3",
   "version": "3.6.2"
  }
 },
 "nbformat": 4,
 "nbformat_minor": 2
}
